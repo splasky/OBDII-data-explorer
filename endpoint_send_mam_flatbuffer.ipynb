{
 "metadata": {
  "language_info": {
   "codemirror_mode": {
    "name": "ipython",
    "version": 3
   },
   "file_extension": ".py",
   "mimetype": "text/x-python",
   "name": "python",
   "nbconvert_exporter": "python",
   "pygments_lexer": "ipython3",
   "version": "3.7.6-final"
  },
  "orig_nbformat": 2,
  "kernelspec": {
   "name": "python3",
   "display_name": "Python 3.7.6 64-bit ('base': conda)",
   "metadata": {
    "interpreter": {
     "hash": "bc312148be3cc951eccc4ec6ffa856dc3354b789e0d1817cd51b89ef0e8ac6c9"
    }
   }
  }
 },
 "nbformat": 4,
 "nbformat_minor": 2,
 "cells": [
  {
   "cell_type": "code",
   "execution_count": 1,
   "metadata": {},
   "outputs": [
    {
     "output_type": "stream",
     "name": "stdout",
     "text": [
      "38255303ad95be95904d4135f40f0ffa\nb'hello world'\n"
     ]
    }
   ],
   "source": [
    "\n",
    "import binascii\n",
    "import base64\n",
    "import re\n",
    "from Crypto.Cipher import AES\n",
    "import hmac\n",
    "import hashlib\n",
    "\n",
    "class AESCBC:\n",
    "    def __init__(self):\n",
    "        self.key = b'LLHRCBHHYWKAGXMYCEKJIPBATQZPBQIE' # private key\n",
    "        self.mode = AES.MODE_CBC\n",
    "        self.bs = 16  # block size\n",
    "        self.PADDING = lambda s: s + (self.bs - len(s) % self.bs) * bytes(chr(self.bs - len(s) % self.bs).encode('utf-8'))\n",
    "        self.UNPADDING = lambda s : s[0 : -s[-1]]\n",
    "\n",
    "    def padding(text):\n",
    "        text_len = len(text)\n",
    "        pad_len = BS - text_len % BS\n",
    "        return text + chr(pad_len).encode('ascii') * pad_len\n",
    "\n",
    "    def encrypt(self, text, iv):\n",
    "        generator = AES.new(self.key, self.mode, IV=iv)\n",
    "        crypt = generator.encrypt(self.PADDING(text))\n",
    "        return iv, crypt\n",
    " \n",
    "    def decrypt(self, text, iv):\n",
    "        generator = AES.new(self.key, self.mode, iv)\n",
    "        msg = generator.decrypt(text)\n",
    "        decrypted = self.UNPADDING(msg)\n",
    "        return decrypted\n",
    "        \n",
    "    def hmac(self, text):\n",
    "        h = hmac.new(self.key, text, hashlib.sha256)\n",
    "        return h.digest()\n",
    " \n",
    " \n",
    "if __name__ == '__main__':\n",
    "    aes = AESCBC()\n",
    " \n",
    "    to_encrypt = b'hello world'\n",
    "    iv = 16 * b'\\x00'\n",
    "\n",
    "    iv, ciphertext = aes.encrypt(to_encrypt, iv)\n",
    "    print(ciphertext.hex())\n",
    "    print(aes.decrypt(ciphertext,iv))"
   ]
  },
  {
   "cell_type": "code",
   "execution_count": 21,
   "metadata": {},
   "outputs": [],
   "source": [
    "import flatbuffers\n",
    "import endpoint.Msg as Msg\n",
    "import OBD.OBD2_data as OBD2_data\n",
    "import OBD.OBD2Meta as OBD2Meta\n",
    "import random\n",
    "\n",
    "builder = flatbuffers.Builder(1024)\n",
    "vin = builder.CreateString(\"PWFJOIOZGKUIOBVY\")\n",
    "\n",
    "OBD2_data.OBD2_dataStart(builder)\n",
    "OBD2_data.OBD2_dataAddVin(builder, vin)\n",
    "OBD2_data.OBD2_dataAddEngineLoad(builder, random.randint(100, 256))\n",
    "OBD2_data.OBD2_dataAddEngineCoolantTemperature(builder, random.randint(100, 256))\n",
    "OBD2_data.OBD2_dataAddFuelPressure(builder, random.randint(100, 256))\n",
    "OBD2_data.OBD2_dataAddEngineSpeed(builder, random.randint(100, 256))\n",
    "OBD2_data.OBD2_dataAddVehicleSpeed(builder, random.randint(100, 256))\n",
    "OBD2_data.OBD2_dataAddIntakeAirTemperature(builder, random.randint(100, 256))\n",
    "OBD2_data.OBD2_dataAddMassAirFlow(builder, random.randint(100, 256))\n",
    "OBD2_data.OBD2_dataAddFuelTankLevelInput(builder, random.randint(100, 256))\n",
    "OBD2_data.OBD2_dataAddAbsoluteBarometricPressure(builder, random.randint(100, 256))\n",
    "OBD2_data.OBD2_dataAddControlModuleVoltage(builder, random.randint(100, 256))\n",
    "OBD2_data.OBD2_dataAddThrottlePosition(builder, random.randint(100, 256))\n",
    "OBD2_data.OBD2_dataAddAmbientAirTemperature(builder, random.randint(100, 256))\n",
    "OBD2_data.OBD2_dataAddRelativeAcceleratorPedalPosition(builder, random.randint(100, 256))\n",
    "OBD2_data.OBD2_dataAddEngineOilTemperature(builder, random.randint(100, 256))\n",
    "OBD2_data.OBD2_dataAddEngineFuelRate(builder, random.randint(100, 256))\n",
    "OBD2_data.OBD2_dataAddServiceDistance(builder, random.randint(100, 256))\n",
    "OBD2_data.OBD2_dataAddAntiLockBarkingActive(builder, random.randint(100, 256))\n",
    "OBD2_data.OBD2_dataAddSteeringWheelAngle(builder, random.randint(100, 256))\n",
    "OBD2_data.OBD2_dataAddPositionOfDoors(builder, random.randint(100, 256))\n",
    "OBD2_data.OBD2_dataAddRightLeftTurnSignalLight(builder, random.randint(100, 256))\n",
    "OBD2_data.OBD2_dataAddAlternateBeamHeadLight(builder, random.randint(100, 256))\n",
    "OBD2_data.OBD2_dataAddHighBeamHeadLight(builder, random.randint(100, 256))\n",
    "obd2_data = OBD2_data.OBD2_dataEnd(builder)"
   ]
  },
  {
   "cell_type": "code",
   "execution_count": 22,
   "metadata": {},
   "outputs": [
    {
     "output_type": "execute_result",
     "data": {
      "text/plain": [
       "792"
      ]
     },
     "metadata": {},
     "execution_count": 22
    }
   ],
   "source": [
    "import time \n",
    "int(time.time())\n",
    "\n",
    "device_id = builder.CreateString(\"PWFJOIOZGKUIOBVY\")\n",
    "OBD2Meta.OBD2MetaStart(builder)\n",
    "OBD2Meta.OBD2MetaAddDeviceID(builder, device_id)\n",
    "OBD2Meta.OBD2MetaAddTimestamp(builder, int(time.time()))\n",
    "OBD2Meta.OBD2MetaAddData(builder, obd2_data)\n",
    "obd2_meta = OBD2Meta.OBD2MetaEnd(builder)\n",
    "builder.Finish(obd2_meta)"
   ]
  },
  {
   "cell_type": "code",
   "execution_count": 23,
   "metadata": {},
   "outputs": [],
   "source": [
    "buf = builder.Output()"
   ]
  },
  {
   "cell_type": "code",
   "execution_count": 24,
   "metadata": {},
   "outputs": [
    {
     "output_type": "execute_result",
     "data": {
      "text/plain": [
       "bytearray(b'\\x10\\x00\\x00\\x00\\x00\\x00\\n\\x00\\x18\\x00\\x14\\x00\\x08\\x00\\x04\\x00\\n\\x00\\x00\\x00\\\\\\x00\\x00\\x00!\\xe6\\xdd_\\x00\\x00\\x00\\x00\\x00\\x00\\x00\\x00\\x04\\x00\\x00\\x00\\x10\\x00\\x00\\x00PWFJOIOZGKUIOBVY\\x00\\x002\\x00`\\x00\\\\\\x00X\\x00T\\x00P\\x00L\\x00H\\x00D\\x00@\\x00<\\x008\\x004\\x000\\x00,\\x00(\\x00$\\x00 \\x00\\x1c\\x00\\x18\\x00\\x14\\x00\\x10\\x00\\x0c\\x00\\x08\\x00\\x04\\x002\\x00\\x00\\x00\\x9d\\x00\\x00\\x00r\\x00\\x00\\x00\\xe7\\x00\\x00\\x00\\x8b\\x00\\x00\\x00j\\x00\\x00\\x00\\xa6\\x00\\x00\\x00\\x80\\x00\\x00\\x00\\xd8\\x00\\x00\\x00\\xbf\\x00\\x00\\x00\\xf0\\x00\\x00\\x00\\x8b\\x00\\x00\\x00\\x94\\x00\\x00\\x00\\xba\\x00\\x00\\x00\\x8b\\x00\\x00\\x00\\xe8\\x00\\x00\\x00\\xb4\\x00\\x00\\x00\\x99\\x00\\x00\\x00q\\x00\\x00\\x00\\xb6\\x00\\x00\\x00\\xdf\\x00\\x00\\x00g\\x00\\x00\\x00\\xe2\\x00\\x00\\x00\\x04\\x00\\x00\\x00\\x10\\x00\\x00\\x00PWFJOIOZGKUIOBVY\\x00\\x00\\x00\\x00')"
      ]
     },
     "metadata": {},
     "execution_count": 24
    }
   ],
   "source": [
    "buf"
   ]
  },
  {
   "cell_type": "code",
   "execution_count": 25,
   "metadata": {},
   "outputs": [],
   "source": [
    "import brotli\n",
    "compressed_data = brotli.compress(bytes(buf))\n"
   ]
  },
  {
   "cell_type": "code",
   "execution_count": 26,
   "metadata": {},
   "outputs": [
    {
     "output_type": "execute_result",
     "data": {
      "text/plain": [
       "b\"\\x1b\\xe7\\x00\\x00\\x8e\\xc38\\x16\\x9cF\\xddC\\xb3\\x07\\x0f\\xcf1\\xfb\\xcb\\x08\\xc1=O+\\xdb\\x80\\xe6\\xd3h\\x1d\\xd0U\\x88f\\xe2\\x11\\xb0\\xb9n\\x1e\\x1cD\\xe4\\x0fl\\xe8'\\x82\\xd9\\xf1\\x11\\x06\\xa2\\x01g\\xa1\\xc6\\xd2\\x96\\xc0o\\xef1\\xf6\\x95%\\x05\\x9b\\x1e\\x00%;f\\xe4\\xc4x\\x03M\\x08\\xfc<w\\x00\\x001\\xd0\\x03\\x8d\\xbb\\x8c\\xd5\\xd7W\\xe7\\xc9\\x8f\\xe9z)\\xd2\\xf5{\\x1cv\\x9b&\\x8b\\x02u\\xca\\xe4I\\x13'\\x8c\\x1fw~\\xebQw(\\xda\\xc7\\x18~M\\r\\x1d\\x8e\\t\\xdc\\xc1-\\xfc\\xf3\\xcd\\xea\\x82\\xf6\\xe7\\xc8\\xda\\xc8\\x89W\\xbd\\xe9\\xc7\\xd6\\xfc\\x01\""
      ]
     },
     "metadata": {},
     "execution_count": 26
    }
   ],
   "source": [
    "compressed_data"
   ]
  },
  {
   "cell_type": "code",
   "execution_count": 27,
   "metadata": {},
   "outputs": [],
   "source": [
    "aes = AESCBC()\n",
    "iv, ciphertext = aes.encrypt(compressed_data, iv)\n",
    "hmac = aes.hmac(compressed_data)"
   ]
  },
  {
   "cell_type": "code",
   "execution_count": 28,
   "metadata": {},
   "outputs": [
    {
     "output_type": "execute_result",
     "data": {
      "text/plain": [
       "b'\\x82x\\xf2\\x04!\\xf96\\x82\\xaf\\xd7Eq\\x86\\x03\\x94\\xec\\';/\\x86\\xb7E\\n\\x1e\\x1cX\\xc3+v\\x16\\xf50\\x13\\x17\\xd6V\\xce\\xd5\\xa2Rmu\\x15\\x9b\\xa7\\xe3\\x8dm\\xae\\xafi\\x01|\\\\\\xaa\\x1e\\x15\\xb6\\xb2\\xdd?Z\\xd8\\r\\xe3ME\\x0bb\\xb8|\\xa1(\\x9a7\\x93\\x06\\xf0\\x90\\xf6\\xf6?\\xa0\\xf6\\xf0\\x0cs\\xbc\\xc8\\xd04\\x9bf\\xa3j\\xe5\\xa8C\\x93\\xc24$Nw\\x06\\xbbq\\x97\\x81`8\\xe3g\\x11$$\\xbd\\xb6k\\x13\\xacR\\xa6\\xb8R\\x17\\xdf@^<\\x96g!\\xab!\\xbe\\x08\\x0e\\xf2\\x8ez>2\\x0f\\xdb\\x19\\ny\\xbb\\x0bZ\\xe5M|\"\\xc9\\xea)R+'"
      ]
     },
     "metadata": {},
     "execution_count": 28
    }
   ],
   "source": [
    "ciphertext"
   ]
  },
  {
   "cell_type": "code",
   "execution_count": 29,
   "metadata": {},
   "outputs": [
    {
     "output_type": "execute_result",
     "data": {
      "text/plain": [
       "b\"\\x1b\\xe7\\x00\\x00\\x8e\\xc38\\x16\\x9cF\\xddC\\xb3\\x07\\x0f\\xcf1\\xfb\\xcb\\x08\\xc1=O+\\xdb\\x80\\xe6\\xd3h\\x1d\\xd0U\\x88f\\xe2\\x11\\xb0\\xb9n\\x1e\\x1cD\\xe4\\x0fl\\xe8'\\x82\\xd9\\xf1\\x11\\x06\\xa2\\x01g\\xa1\\xc6\\xd2\\x96\\xc0o\\xef1\\xf6\\x95%\\x05\\x9b\\x1e\\x00%;f\\xe4\\xc4x\\x03M\\x08\\xfc<w\\x00\\x001\\xd0\\x03\\x8d\\xbb\\x8c\\xd5\\xd7W\\xe7\\xc9\\x8f\\xe9z)\\xd2\\xf5{\\x1cv\\x9b&\\x8b\\x02u\\xca\\xe4I\\x13'\\x8c\\x1fw~\\xebQw(\\xda\\xc7\\x18~M\\r\\x1d\\x8e\\t\\xdc\\xc1-\\xfc\\xf3\\xcd\\xea\\x82\\xf6\\xe7\\xc8\\xda\\xc8\\x89W\\xbd\\xe9\\xc7\\xd6\\xfc\\x01\""
      ]
     },
     "metadata": {},
     "execution_count": 29
    }
   ],
   "source": [
    "# check decrypt\n",
    "aes.decrypt(ciphertext, iv)"
   ]
  },
  {
   "cell_type": "code",
   "execution_count": 30,
   "metadata": {},
   "outputs": [],
   "source": [
    "builder = flatbuffers.Builder(1024)\n",
    "\n",
    "# Note: Since we prepend the bytes, this loop iterates in reverse order.\n",
    "Msg.MsgStartHmacVector(builder, 32)\n",
    "for i in reversed(hmac):\n",
    "    builder.PrependByte(i)\n",
    "flat_hmac = builder.EndVector(32)\n",
    "\n",
    "Msg.MsgStartIvVector(builder, 16)\n",
    "for i in reversed(iv):\n",
    "    builder.PrependByte(i)\n",
    "flat_iv = builder.EndVector(16)\n",
    "\n",
    "Msg.MsgStartDataVector(builder, len(ciphertext))\n",
    "for i in reversed(ciphertext):\n",
    "    builder.PrependByte(i)\n",
    "flat_ciphertext = builder.EndVector(len(ciphertext))\n",
    "\n",
    "Msg.MsgStart(builder)\n",
    "Msg.MsgAddHmac(builder,flat_hmac)\n",
    "Msg.MsgAddIv(builder,flat_iv)\n",
    "Msg.MsgAddData(builder,flat_ciphertext)\n",
    "myMsg = Msg.MsgEnd(builder)\n",
    "builder.Finish(myMsg)\n",
    "serial_msg = builder.Output()"
   ]
  },
  {
   "cell_type": "code",
   "execution_count": 31,
   "metadata": {},
   "outputs": [
    {
     "output_type": "execute_result",
     "data": {
      "text/plain": [
       "bytearray(b'\\x10\\x00\\x00\\x00\\x00\\x00\\n\\x00\\x10\\x00\\x0c\\x00\\x08\\x00\\x04\\x00\\n\\x00\\x00\\x00\\x0c\\x00\\x00\\x00\\xac\\x00\\x00\\x00\\xbc\\x00\\x00\\x00\\xa0\\x00\\x00\\x00\\x82x\\xf2\\x04!\\xf96\\x82\\xaf\\xd7Eq\\x86\\x03\\x94\\xec\\';/\\x86\\xb7E\\n\\x1e\\x1cX\\xc3+v\\x16\\xf50\\x13\\x17\\xd6V\\xce\\xd5\\xa2Rmu\\x15\\x9b\\xa7\\xe3\\x8dm\\xae\\xafi\\x01|\\\\\\xaa\\x1e\\x15\\xb6\\xb2\\xdd?Z\\xd8\\r\\xe3ME\\x0bb\\xb8|\\xa1(\\x9a7\\x93\\x06\\xf0\\x90\\xf6\\xf6?\\xa0\\xf6\\xf0\\x0cs\\xbc\\xc8\\xd04\\x9bf\\xa3j\\xe5\\xa8C\\x93\\xc24$Nw\\x06\\xbbq\\x97\\x81`8\\xe3g\\x11$$\\xbd\\xb6k\\x13\\xacR\\xa6\\xb8R\\x17\\xdf@^<\\x96g!\\xab!\\xbe\\x08\\x0e\\xf2\\x8ez>2\\x0f\\xdb\\x19\\ny\\xbb\\x0bZ\\xe5M|\"\\xc9\\xea)R+\\x10\\x00\\x00\\x00\\x00\\x00\\x00\\x00\\x00\\x00\\x00\\x00\\x00\\x00\\x00\\x00\\x00\\x00\\x00\\x00 \\x00\\x00\\x00\\xb78}x\\xbcY|\\xdd\\xb7ga\\x04\\x83\\xe9-\\x83\\x9e\\xd6\\xf0\\x1b\\xc14\\xbc\\xd7\\xdb<\\x15\\xf3*\\xa4R\\xf5')"
      ]
     },
     "metadata": {},
     "execution_count": 31
    }
   ],
   "source": [
    "serial_msg"
   ]
  },
  {
   "cell_type": "code",
   "execution_count": 32,
   "metadata": {},
   "outputs": [],
   "source": [
    "import base64\n",
    "msg = base64.b64encode(serial_msg)\n"
   ]
  },
  {
   "cell_type": "code",
   "execution_count": 33,
   "metadata": {},
   "outputs": [
    {
     "output_type": "execute_result",
     "data": {
      "text/plain": [
       "b'EAAAAAAACgAQAAwACAAEAAoAAAAMAAAArAAAALwAAACgAAAAgnjyBCH5NoKv10VxhgOU7Cc7L4a3RQoeHFjDK3YW9TATF9ZWztWiUm11FZun441trq9pAXxcqh4VtrLdP1rYDeNNRQtiuHyhKJo3kwbwkPb2P6D28AxzvMjQNJtmo2rlqEOTwjQkTncGu3GXgWA442cRJCS9tmsTrFKmuFIX30BePJZnIashvggO8o56PjIP2xkKebsLWuVNfCLJ6ilSKxAAAAAAAAAAAAAAAAAAAAAAAAAAIAAAALc4fXi8WXzdt2dhBIPpLYOe1vAbwTS819s8FfMqpFL1'"
      ]
     },
     "metadata": {},
     "execution_count": 33
    }
   ],
   "source": [
    "msg"
   ]
  },
  {
   "cell_type": "code",
   "execution_count": 34,
   "metadata": {},
   "outputs": [
    {
     "output_type": "execute_result",
     "data": {
      "text/plain": [
       "336"
      ]
     },
     "metadata": {},
     "execution_count": 34
    }
   ],
   "source": [
    "len(msg)"
   ]
  },
  {
   "cell_type": "code",
   "execution_count": 35,
   "metadata": {},
   "outputs": [],
   "source": [
    "mam_data = msg.decode('ascii')"
   ]
  },
  {
   "cell_type": "code",
   "execution_count": 36,
   "metadata": {},
   "outputs": [
    {
     "output_type": "execute_result",
     "data": {
      "text/plain": [
       "'EAAAAAAACgAQAAwACAAEAAoAAAAMAAAArAAAALwAAACgAAAAgnjyBCH5NoKv10VxhgOU7Cc7L4a3RQoeHFjDK3YW9TATF9ZWztWiUm11FZun441trq9pAXxcqh4VtrLdP1rYDeNNRQtiuHyhKJo3kwbwkPb2P6D28AxzvMjQNJtmo2rlqEOTwjQkTncGu3GXgWA442cRJCS9tmsTrFKmuFIX30BePJZnIashvggO8o56PjIP2xkKebsLWuVNfCLJ6ilSKxAAAAAAAAAAAAAAAAAAAAAAAAAAIAAAALc4fXi8WXzdt2dhBIPpLYOe1vAbwTS819s8FfMqpFL1'"
      ]
     },
     "metadata": {},
     "execution_count": 36
    }
   ],
   "source": [
    "mam_data"
   ]
  },
  {
   "cell_type": "code",
   "execution_count": 52,
   "metadata": {},
   "outputs": [],
   "source": [
    "from datetime import datetime\n",
    "import requests\n",
    "import random\n",
    "import string\n",
    "import json\n",
    "import time\n",
    "import brotli\n",
    "import base64\n",
    "\n",
    "import flatbuffers\n",
    "import endpoint.Msg as Msg\n",
    "import OBD.OBD2_data as OBD2_data\n",
    "import OBD.OBD2Meta as OBD2Meta\n",
    "\n",
    "URL = \"http://node1.puyuma.org:6666/mam/send\"\n",
    "DEVICE_ID = \"PWFJOIOZGKUIOBVY\"\n",
    "PRIVATE_KEY = \"LLHRCBHHYWKAGXMYCEKJIPBATQZPBQIE\"\n",
    "\n",
    "class AESCBC:\n",
    "    def __init__(self, private_key):\n",
    "        self.key = private_key.encode('ascii')\n",
    "        self.mode = AES.MODE_CBC\n",
    "        self.bs = 16  # block size\n",
    "        self.PADDING = lambda s: s + (self.bs - len(s) % self.bs) * bytes(chr(self.bs - len(s) % self.bs).encode('utf-8'))\n",
    "        self.UNPADDING = lambda s : s[0 : -s[-1]]\n",
    "\n",
    "    def padding(text):\n",
    "        text_len = len(text)\n",
    "        pad_len = BS - text_len % BS\n",
    "        return text + chr(pad_len).encode('ascii') * pad_len\n",
    "\n",
    "    def encrypt(self, text, iv):\n",
    "        generator = AES.new(self.key, self.mode, IV=iv)\n",
    "        crypt = generator.encrypt(self.PADDING(text))\n",
    "        return iv, crypt\n",
    " \n",
    "    def decrypt(self, text, iv):\n",
    "        generator = AES.new(self.key, self.mode, iv)\n",
    "        msg = generator.decrypt(text)\n",
    "        decrypted = self.UNPADDING(msg)\n",
    "        return decrypted\n",
    "        \n",
    "    def hmac(self, text):\n",
    "        h = hmac.new(self.key, text, hashlib.sha256)\n",
    "        return h.digest()\n",
    "\n",
    "def generate_OBD2_flatbuffer(device_id, private_key):\n",
    "    builder = flatbuffers.Builder(1024)\n",
    "    vin = builder.CreateString(device_id)\n",
    "\n",
    "    OBD2_data.OBD2_dataStart(builder)\n",
    "    OBD2_data.OBD2_dataAddVin(builder, vin)\n",
    "    OBD2_data.OBD2_dataAddEngineLoad(builder, random.randint(0, 4294967295))\n",
    "    OBD2_data.OBD2_dataAddEngineCoolantTemperature(builder, random.randint(0, 4294967295))\n",
    "    OBD2_data.OBD2_dataAddFuelPressure(builder, random.randint(0, 4294967295))\n",
    "    OBD2_data.OBD2_dataAddEngineSpeed(builder, random.randint(0, 4294967295))\n",
    "    OBD2_data.OBD2_dataAddVehicleSpeed(builder, random.randint(0, 4294967295))\n",
    "    OBD2_data.OBD2_dataAddIntakeAirTemperature(builder, random.randint(0, 4294967295))\n",
    "    OBD2_data.OBD2_dataAddMassAirFlow(builder, random.randint(0, 4294967295))\n",
    "    OBD2_data.OBD2_dataAddFuelTankLevelInput(builder, random.randint(0, 4294967295))\n",
    "    OBD2_data.OBD2_dataAddAbsoluteBarometricPressure(builder, random.randint(0, 4294967295))\n",
    "    OBD2_data.OBD2_dataAddControlModuleVoltage(builder, random.randint(0, 4294967295))\n",
    "    OBD2_data.OBD2_dataAddThrottlePosition(builder, random.randint(0, 4294967295))\n",
    "    OBD2_data.OBD2_dataAddAmbientAirTemperature(builder, random.randint(0, 4294967295))\n",
    "    OBD2_data.OBD2_dataAddRelativeAcceleratorPedalPosition(builder, random.randint(0, 4294967295))\n",
    "    OBD2_data.OBD2_dataAddEngineOilTemperature(builder, random.randint(0, 4294967295))\n",
    "    OBD2_data.OBD2_dataAddEngineFuelRate(builder, random.randint(0, 4294967295))\n",
    "    OBD2_data.OBD2_dataAddServiceDistance(builder, random.randint(0, 4294967295))\n",
    "    OBD2_data.OBD2_dataAddAntiLockBarkingActive(builder, random.randint(0, 4294967295))\n",
    "    OBD2_data.OBD2_dataAddSteeringWheelAngle(builder, random.randint(0, 4294967295))\n",
    "    OBD2_data.OBD2_dataAddPositionOfDoors(builder, random.randint(0, 4294967295))\n",
    "    OBD2_data.OBD2_dataAddRightLeftTurnSignalLight(builder, random.randint(0, 4294967295))\n",
    "    OBD2_data.OBD2_dataAddAlternateBeamHeadLight(builder, random.randint(0, 4294967295))\n",
    "    OBD2_data.OBD2_dataAddHighBeamHeadLight(builder, random.randint(0, 4294967295))\n",
    "    obd2_data = OBD2_data.OBD2_dataEnd(builder)\n",
    "\n",
    "    int(time.time())\n",
    "\n",
    "    device_id = builder.CreateString(device_id)\n",
    "    OBD2Meta.OBD2MetaStart(builder)\n",
    "    OBD2Meta.OBD2MetaAddDeviceID(builder, device_id)\n",
    "    OBD2Meta.OBD2MetaAddTimestamp(builder, int(time.time()))\n",
    "    OBD2Meta.OBD2MetaAddData(builder, obd2_data)\n",
    "    obd2_meta = OBD2Meta.OBD2MetaEnd(builder)\n",
    "    builder.Finish(obd2_meta)\n",
    "    \n",
    "    buf = builder.Output()\n",
    "    compressed_data = brotli.compress(bytes(buf))\n",
    "\n",
    "    aes = AESCBC(private_key)\n",
    "    iv = 16 * b'\\x00'\n",
    "    iv, ciphertext = aes.encrypt(compressed_data, iv)\n",
    "    hmac = aes.hmac(compressed_data)\n",
    "\n",
    "    builder = flatbuffers.Builder(1024)\n",
    "\n",
    "    # Note: Since we prepend the bytes, this loop iterates in reverse order.\n",
    "    Msg.MsgStartHmacVector(builder, 32)\n",
    "    for i in reversed(hmac):\n",
    "        builder.PrependByte(i)\n",
    "    flat_hmac = builder.EndVector(32)\n",
    "\n",
    "    Msg.MsgStartIvVector(builder, 16)\n",
    "    for i in reversed(iv):\n",
    "        builder.PrependByte(i)\n",
    "    flat_iv = builder.EndVector(16)\n",
    "\n",
    "    Msg.MsgStartDataVector(builder, len(ciphertext))\n",
    "    for i in reversed(ciphertext):\n",
    "        builder.PrependByte(i)\n",
    "    flat_ciphertext = builder.EndVector(len(ciphertext))\n",
    "\n",
    "    Msg.MsgStart(builder)\n",
    "    Msg.MsgAddHmac(builder,flat_hmac)\n",
    "    Msg.MsgAddIv(builder,flat_iv)\n",
    "    Msg.MsgAddData(builder,flat_ciphertext)\n",
    "    myMsg = Msg.MsgEnd(builder)\n",
    "    builder.Finish(myMsg)\n",
    "    serial_msg = builder.Output()\n",
    "\n",
    "    msg = base64.b64encode(serial_msg)\n",
    "    mam_data = msg.decode('ascii')\n",
    "    return mam_data\n",
    " \n",
    "def send_mam_message(seed, message):\n",
    "\n",
    "    data = {\"seed\": seed, \"message\": message}\n",
    "    r = requests.post(URL, json={\"data\": data, \"protocol\": \"MAM_V1\"})\n",
    "    return r\n"
   ]
  },
  {
   "cell_type": "code",
   "execution_count": 49,
   "metadata": {},
   "outputs": [
    {
     "output_type": "execute_result",
     "data": {
      "text/plain": [
       "'VKH3ST13CMI3DWAYL357PY330EA763JRCIUBMBWRN9QKA50DF81HEDFXQM1AYZP7TE1OKEGSW8XSZEWD5'"
      ]
     },
     "metadata": {},
     "execution_count": 49
    }
   ],
   "source": [
    "import random\n",
    "import string\n",
    "def generate_new_seed():\n",
    "    seed = ''.join(random.choices(string.ascii_uppercase+string.digits, k=81))\n",
    "    return seed\n",
    "\n",
    "generate_new_seed()"
   ]
  },
  {
   "cell_type": "code",
   "execution_count": 50,
   "metadata": {},
   "outputs": [
    {
     "output_type": "execute_result",
     "data": {
      "text/plain": [
       "'EAAAAAAACgAQAAwACAAEAAoAAAAMAAAA/AAAAAwBAADwAAAAYWUM1vZ6wmXYiN6801oEB9SlEVcnORwphJ+laMy7SGPJ9Q7E5E9Jxd7OSsbPaj8eBYjxkVc3wX4VvFxwzfyWoRAjEtCsZv/7mzGahXGNrorwLgPJeFB30VzVCbMm8LePqgVKhpq/EjbagVgO1o+/2KNlAnWM0C7TqfFVWgIWKHiFwBg8085N9BMIJlTsv9dog/wcTwbs4ongojAFL89JBDzDbnnNBm/NXlDwk202wPkL0h16uYsoyKIFrz0D62HZDK9kcx/pnRmuk+XCMNGAkF7W35WmooWIKizkDISiDrdyMi5d7xT3ZIJDY99qQt9KEAAAAAAAAAAAAAAAAAAAAAAAAAAgAAAARYsJU5qVudbqv59JbfESdSvWtmbkRbqem3t5yubuPmw='"
      ]
     },
     "metadata": {},
     "execution_count": 50
    }
   ],
   "source": [
    "generate_OBD2_flatbuffer(PRIVATE_KEY, DEVICE_ID)"
   ]
  },
  {
   "cell_type": "code",
   "execution_count": 51,
   "metadata": {},
   "outputs": [
    {
     "output_type": "stream",
     "name": "stdout",
     "text": [
      "Seed: D65Z93A5JWQHQIMMAG0XSN51W43L9TB7LCCRSYR1MVT9FV349UVF9E9QGVLCC1D4Y2NHGZZABAXV18UUF\n",
      "{\"uuid\":\"df4b5da4-79d6-48d1-8988-cf96c8bfdbc6\"}\n",
      "{\"uuid\":\"df4b5da4-79d6-48d1-8988-cf96c8bfdbc6\"}\n",
      "{\"uuid\":\"fec8ad03-372d-4d74-8258-0ad89a24969b\"}\n",
      "{\"uuid\":\"fec8ad03-372d-4d74-8258-0ad89a24969b\"}\n",
      "{\"uuid\":\"feed938c-de55-4b16-9e49-5e21b369d688\"}\n",
      "{\"uuid\":\"feed938c-de55-4b16-9e49-5e21b369d688\"}\n",
      "{\"uuid\":\"dba372c9-75ca-40ba-898a-0c13b1284142\"}\n",
      "{\"uuid\":\"dba372c9-75ca-40ba-898a-0c13b1284142\"}\n",
      "{\"uuid\":\"37c322ea-38c4-4953-b0be-85afc1c62e4f\"}\n",
      "{\"uuid\":\"37c322ea-38c4-4953-b0be-85afc1c62e4f\"}\n",
      "{\"uuid\":\"7d93c561-87ac-45eb-8867-c5a36e89ba46\"}\n",
      "{\"uuid\":\"7d93c561-87ac-45eb-8867-c5a36e89ba46\"}\n",
      "{\"uuid\":\"81fec300-ab54-469f-ac7d-9c77cd7b3e9e\"}\n",
      "{\"uuid\":\"81fec300-ab54-469f-ac7d-9c77cd7b3e9e\"}\n",
      "{\"uuid\":\"a48335f8-5ffe-40a4-8d22-c1fa54028b47\"}\n",
      "{\"uuid\":\"a48335f8-5ffe-40a4-8d22-c1fa54028b47\"}\n",
      "{\"uuid\":\"6e3a2545-6c36-48be-b88b-2332931801ed\"}\n",
      "{\"uuid\":\"6e3a2545-6c36-48be-b88b-2332931801ed\"}\n",
      "{\"uuid\":\"cc3a3308-1af2-4435-9342-5fa909a8473c\"}\n",
      "{\"uuid\":\"cc3a3308-1af2-4435-9342-5fa909a8473c\"}\n"
     ]
    }
   ],
   "source": [
    "seed = generate_new_seed()\n",
    "print(\"Seed: \" + seed)\n",
    "\n",
    "for i in range(0,10):\n",
    "    mam_msg = generate_OBD2_flatbuffer(PRIVATE_KEY, DEVICE_ID)\n",
    "    ret = send_mam_message(seed, mam_msg)\n",
    "    print(ret.text)"
   ]
  },
  {
   "cell_type": "code",
   "execution_count": null,
   "metadata": {},
   "outputs": [],
   "source": []
  }
 ]
}